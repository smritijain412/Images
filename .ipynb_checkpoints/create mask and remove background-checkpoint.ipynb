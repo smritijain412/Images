{
 "cells": [
  {
   "cell_type": "code",
   "execution_count": 38,
   "metadata": {},
   "outputs": [],
   "source": [
    "import numpy as np \n",
    "import cv2\n",
    "from PIL import Image\n",
    "\n",
    "def create_mask(img,save_image_name,remove_background):\n",
    "    \n",
    "    # Load image\n",
    "    im = cv2.imread(img)\n",
    "    gray = cv2.cvtColor(im,cv2.COLOR_BGR2GRAY)\n",
    "    mask = cv2.threshold(gray,65,40,cv2.THRESH_BINARY_INV)[1] # set threshold\n",
    "    mask[mask == 1] = 0\n",
    "    mask[mask > 1] = 255\n",
    "\n",
    "    # Use a kernel to dilate the image, to not lose any detail on the outline\n",
    "    # I used a kernel of 3x3 pixels\n",
    "    kernel = np.ones((3,3),np.uint8)\n",
    "    mask_image = cv2.dilate(mask.astype(np.float32), kernel, iterations = 1)\n",
    "    # plt.imshow(mask_image, cmap='gray')\n",
    "    # plt.show()\n",
    "    cv2.imwrite(save_image_name,mask_image)\n",
    "    # Open the input image as numpy array\n",
    "    npImage=np.array(Image.open(img))\n",
    "    # Open the mask image as numpy array\n",
    "    npMask=np.array(Image.open(save_image_name).convert(\"RGB\"))\n",
    "\n",
    "    # Make a binary array identifying where the mask is black\n",
    "    cond = npMask<128\n",
    "\n",
    "    # Select image or mask according to condition array\n",
    "    pixels=np.where(cond, npImage, npMask)\n",
    "\n",
    "    # Save resulting image\n",
    "    result=Image.fromarray(pixels)\n",
    "    result.save(remove_background)"
   ]
  },
  {
   "cell_type": "code",
   "execution_count": 39,
   "metadata": {},
   "outputs": [],
   "source": [
    "create_mask('photo.jpg','p1.jpg','b1.jpg')"
   ]
  },
  {
   "cell_type": "code",
   "execution_count": null,
   "metadata": {},
   "outputs": [],
   "source": []
  }
 ],
 "metadata": {
  "kernelspec": {
   "display_name": "Python 3",
   "language": "python",
   "name": "python3"
  },
  "language_info": {
   "codemirror_mode": {
    "name": "ipython",
    "version": 3
   },
   "file_extension": ".py",
   "mimetype": "text/x-python",
   "name": "python",
   "nbconvert_exporter": "python",
   "pygments_lexer": "ipython3",
   "version": "3.7.6"
  }
 },
 "nbformat": 4,
 "nbformat_minor": 4
}
