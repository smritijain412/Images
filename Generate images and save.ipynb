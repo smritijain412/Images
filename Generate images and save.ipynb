{
 "cells": [
  {
   "cell_type": "code",
   "execution_count": 1,
   "metadata": {},
   "outputs": [
    {
     "name": "stderr",
     "output_type": "stream",
     "text": [
      "Using TensorFlow backend.\n"
     ]
    }
   ],
   "source": [
    "from keras.preprocessing.image import ImageDataGenerator, array_to_img, img_to_array, load_img\n",
    "import os \n"
   ]
  },
  {
   "cell_type": "code",
   "execution_count": 4,
   "metadata": {},
   "outputs": [
    {
     "name": "stdout",
     "output_type": "stream",
     "text": [
      "enter pathC:\\Users\\sj\\Desktop\\Images\\source\n",
      "enter dest pathC:\\Users\\sj\\Desktop\\Images\\dest\n",
      "True\n"
     ]
    }
   ],
   "source": [
    "source=input('enter path')\n",
    "dest=input('enter dest path')\n",
    "# make folder if it doesn't exists\n",
    "if os.path.exists(dest):\n",
    "    print (True)\n",
    "else:\n",
    "    os.mkdir(dest)\n",
    "datagen = ImageDataGenerator(shear_range=0.2, zoom_range=0.1,rotation_range=1, horizontal_flip=True,vertical_flip=True) \n",
    "filenames=os.listdir(source)\n",
    "for f in filenames:\n",
    "    f=source+'\\\\'+f\n",
    "    img = load_img(f)  \n",
    "    x = img_to_array(img) \n",
    "    # Reshape the input image \n",
    "    x = x.reshape((1, ) + x.shape)  \n",
    "    i = 0\n",
    " \n",
    "    \n",
    "    # generate 5 new augmented images \n",
    "    for batch in datagen.flow(x, batch_size = 4, \n",
    "                      save_to_dir =dest,  \n",
    "                      save_prefix ='', save_format ='jpg'):\n",
    "        i += 1\n",
    "        if i > 5: \n",
    "            break"
   ]
  },
  {
   "cell_type": "code",
   "execution_count": null,
   "metadata": {},
   "outputs": [],
   "source": []
  }
 ],
 "metadata": {
  "kernelspec": {
   "display_name": "Python 3",
   "language": "python",
   "name": "python3"
  },
  "language_info": {
   "codemirror_mode": {
    "name": "ipython",
    "version": 3
   },
   "file_extension": ".py",
   "mimetype": "text/x-python",
   "name": "python",
   "nbconvert_exporter": "python",
   "pygments_lexer": "ipython3",
   "version": "3.7.6"
  }
 },
 "nbformat": 4,
 "nbformat_minor": 4
}
