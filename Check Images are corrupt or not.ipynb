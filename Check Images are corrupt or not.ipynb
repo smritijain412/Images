{
 "cells": [
  {
   "cell_type": "code",
   "execution_count": 1,
   "metadata": {},
   "outputs": [],
   "source": [
    "from os import listdir\n",
    "from PIL import Image\n",
    "import os"
   ]
  },
  {
   "cell_type": "code",
   "execution_count": 7,
   "metadata": {},
   "outputs": [
    {
     "name": "stdout",
     "output_type": "stream",
     "text": [
      "enter pathC:\\Users\\sj\\Desktop\\RINGS\n",
      "Count of good images 2714 and bad images 0\n"
     ]
    }
   ],
   "source": [
    "good_images=[]\n",
    "bad_images=[]\n",
    "path=input('enter path')\n",
    "for filename in listdir(path):\n",
    "        filename=path+'\\\\'+filename\n",
    "        try:\n",
    "            img = Image.open(filename)\n",
    "            img.verify()\n",
    "            good_images.append(filename)\n",
    "        except Exception:\n",
    "            bad_images.append(filename)\n",
    "# Print count of  good and bad images \n",
    "print(\"Count of good images {} and bad images {}\".format(len(good_images),len(bad_images)))"
   ]
  },
  {
   "cell_type": "code",
   "execution_count": 9,
   "metadata": {},
   "outputs": [],
   "source": [
    "# if some images are found corrupt then, remove \n",
    "for i in bad_images:\n",
    "    os.remove(i)"
   ]
  },
  {
   "cell_type": "code",
   "execution_count": null,
   "metadata": {},
   "outputs": [],
   "source": []
  }
 ],
 "metadata": {
  "kernelspec": {
   "display_name": "Python 3",
   "language": "python",
   "name": "python3"
  },
  "language_info": {
   "codemirror_mode": {
    "name": "ipython",
    "version": 3
   },
   "file_extension": ".py",
   "mimetype": "text/x-python",
   "name": "python",
   "nbconvert_exporter": "python",
   "pygments_lexer": "ipython3",
   "version": "3.7.6"
  }
 },
 "nbformat": 4,
 "nbformat_minor": 4
}
